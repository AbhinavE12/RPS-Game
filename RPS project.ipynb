{
 "cells": [
  {
   "cell_type": "code",
   "execution_count": 16,
   "id": "sensitive-disabled",
   "metadata": {},
   "outputs": [
    {
     "name": "stdout",
     "output_type": "stream",
     "text": [
      "Enter a choice (rock, paper, scissors): rock\n",
      "You chose rock\n",
      "Computer chose scissors\n",
      "YOU WON WOOHOOO\n"
     ]
    }
   ],
   "source": [
    "import random\n",
    "\n",
    "A = input(\"Enter a choice (rock, paper, scissors): \")\n",
    "B= [\"rock\", \"paper\", \"scissors\"]\n",
    "C = random.choice(B)\n",
    "print(\"You chose\",A)\n",
    "print(\"Computer chose\",C)\n",
    "\n",
    "if A == C:\n",
    "    print(f\"Both players selected {A}. You tied\")\n",
    "elif A == \"rock\":\n",
    "    if C == \"scissors\":\n",
    "        print(\"YOU WON WOOHOOO\")\n",
    "    else:\n",
    "        print(\"YOU LOST THAT MUST SUCK\")\n",
    "elif A == \"paper\":\n",
    "    if C == \"rock\":\n",
    "        print(\"YOU WIN WOOHOO\")\n",
    "    else:\n",
    "        print(\"YOU LOSE THAT MUST SUCK.\")\n",
    "elif A == \"scissors\":\n",
    "    if C == \"paper\":\n",
    "        print(\"YOU WIN WOOHOO\")\n",
    "    else:\n",
    "        print(\"YOU LOSE THAT MUST SUCK\")"
   ]
  },
  {
   "cell_type": "code",
   "execution_count": null,
   "id": "funded-collectible",
   "metadata": {},
   "outputs": [],
   "source": []
  }
 ],
 "metadata": {
  "kernelspec": {
   "display_name": "Python 3",
   "language": "python",
   "name": "python3"
  },
  "language_info": {
   "codemirror_mode": {
    "name": "ipython",
    "version": 3
   },
   "file_extension": ".py",
   "mimetype": "text/x-python",
   "name": "python",
   "nbconvert_exporter": "python",
   "pygments_lexer": "ipython3",
   "version": "3.9.2"
  }
 },
 "nbformat": 4,
 "nbformat_minor": 5
}
